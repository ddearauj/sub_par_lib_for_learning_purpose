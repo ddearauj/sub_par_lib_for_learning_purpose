{
 "cells": [
  {
   "cell_type": "markdown",
   "metadata": {},
   "source": [
    "# Decision Trees\n",
    "\n",
    "### 0) Sample Data"
   ]
  },
  {
   "cell_type": "code",
   "execution_count": 2,
   "metadata": {},
   "outputs": [
    {
     "data": {
      "text/html": [
       "<div>\n",
       "<style>\n",
       "    .dataframe thead tr:only-child th {\n",
       "        text-align: right;\n",
       "    }\n",
       "\n",
       "    .dataframe thead th {\n",
       "        text-align: left;\n",
       "    }\n",
       "\n",
       "    .dataframe tbody tr th {\n",
       "        vertical-align: top;\n",
       "    }\n",
       "</style>\n",
       "<table border=\"1\" class=\"dataframe\">\n",
       "  <thead>\n",
       "    <tr style=\"text-align: right;\">\n",
       "      <th></th>\n",
       "      <th>color</th>\n",
       "      <th>fruit</th>\n",
       "      <th>size</th>\n",
       "    </tr>\n",
       "  </thead>\n",
       "  <tbody>\n",
       "    <tr>\n",
       "      <th>0</th>\n",
       "      <td>Purple</td>\n",
       "      <td>Grape</td>\n",
       "      <td>1.0</td>\n",
       "    </tr>\n",
       "    <tr>\n",
       "      <th>1</th>\n",
       "      <td>Purple</td>\n",
       "      <td>Grape</td>\n",
       "      <td>1.5</td>\n",
       "    </tr>\n",
       "    <tr>\n",
       "      <th>2</th>\n",
       "      <td>Yellow</td>\n",
       "      <td>Lemon</td>\n",
       "      <td>3.0</td>\n",
       "    </tr>\n",
       "    <tr>\n",
       "      <th>3</th>\n",
       "      <td>Green</td>\n",
       "      <td>Apple</td>\n",
       "      <td>3.0</td>\n",
       "    </tr>\n",
       "    <tr>\n",
       "      <th>4</th>\n",
       "      <td>Green</td>\n",
       "      <td>Lemon</td>\n",
       "      <td>3.0</td>\n",
       "    </tr>\n",
       "  </tbody>\n",
       "</table>\n",
       "</div>"
      ],
      "text/plain": [
       "    color  fruit  size\n",
       "0  Purple  Grape   1.0\n",
       "1  Purple  Grape   1.5\n",
       "2  Yellow  Lemon   3.0\n",
       "3   Green  Apple   3.0\n",
       "4   Green  Lemon   3.0"
      ]
     },
     "execution_count": 2,
     "metadata": {},
     "output_type": "execute_result"
    }
   ],
   "source": [
    "import pandas as pd\n",
    "data = {\n",
    "    'color' : ['Purple', 'Purple', 'Yellow', 'Green', 'Green'],\n",
    "    'size'  : [1       , 1.5     , 3       , 3      , 3      ],\n",
    "    'fruit' : ['Grape' , 'Grape' , 'Lemon' , 'Apple', 'Lemon']\n",
    "}\n",
    "\n",
    "df = pd.DataFrame(data=data)\n",
    "df.head()"
   ]
  },
  {
   "cell_type": "markdown",
   "metadata": {},
   "source": [
    "### 1) Split the Data\n",
    "Trees work by \"asking questions\" and spliting the data accordingly.\n",
    "The objective is to have a node with the purest data in it"
   ]
  },
  {
   "cell_type": "code",
   "execution_count": 33,
   "metadata": {},
   "outputs": [],
   "source": [
    "class Condition:\n",
    "    \"\"\"\n",
    "    A Condition is used to partition a dataset.\n",
    "     \n",
    "    This class just records a column name (e.g., Color) and a\n",
    "    column value (e.g., Green)\n",
    "    \n",
    "    Numerical questions are always >=\n",
    "    \"\"\"\n",
    "    \n",
    "    def __init__(self, column_name, value):\n",
    "        self.column_name = column_name\n",
    "        self.value = value\n",
    "\n",
    "    def __str__(self):\n",
    "        # This is just a helper method to print\n",
    "        # the question in a readable format.\n",
    "        condition = \"==\"\n",
    "        if isinstance(self.value, int) or isinstance(self.value, float):\n",
    "            condition = \">=\"\n",
    "        return \"Is %s %s %s?\" % (self.column_name, condition, str(self.value))"
   ]
  },
  {
   "cell_type": "code",
   "execution_count": 34,
   "metadata": {},
   "outputs": [],
   "source": [
    "def partition(df, condition):\n",
    "    \n",
    "    # if question is numeric\n",
    "    if isinstance(condition.value, int) or isinstance(condition.value, float):\n",
    "        true_branch  = df[df[condition.column_name] >= condition.value]\n",
    "        false_branch = df[df[condition.column_name] <  condition.value]\n",
    "    else:\n",
    "        true_branch  = df[df[condition.column_name] == condition.value]\n",
    "        false_branch = df[df[condition.column_name] != condition.value]\n",
    "\n",
    "    return true_branch, false_branch\n",
    "    "
   ]
  },
  {
   "cell_type": "code",
   "execution_count": 35,
   "metadata": {},
   "outputs": [
    {
     "name": "stdout",
     "output_type": "stream",
     "text": [
      "Is color == Green?\n"
     ]
    }
   ],
   "source": [
    "### Tests\n",
    "cond = Condition('color', 'Green')\n",
    "print(cond)"
   ]
  },
  {
   "cell_type": "code",
   "execution_count": 36,
   "metadata": {},
   "outputs": [],
   "source": [
    "green, not_green = partition(df, cond)"
   ]
  },
  {
   "cell_type": "code",
   "execution_count": 37,
   "metadata": {},
   "outputs": [
    {
     "data": {
      "text/html": [
       "<div>\n",
       "<style>\n",
       "    .dataframe thead tr:only-child th {\n",
       "        text-align: right;\n",
       "    }\n",
       "\n",
       "    .dataframe thead th {\n",
       "        text-align: left;\n",
       "    }\n",
       "\n",
       "    .dataframe tbody tr th {\n",
       "        vertical-align: top;\n",
       "    }\n",
       "</style>\n",
       "<table border=\"1\" class=\"dataframe\">\n",
       "  <thead>\n",
       "    <tr style=\"text-align: right;\">\n",
       "      <th></th>\n",
       "      <th>color</th>\n",
       "      <th>fruit</th>\n",
       "      <th>size</th>\n",
       "    </tr>\n",
       "  </thead>\n",
       "  <tbody>\n",
       "    <tr>\n",
       "      <th>3</th>\n",
       "      <td>Green</td>\n",
       "      <td>Apple</td>\n",
       "      <td>3.0</td>\n",
       "    </tr>\n",
       "    <tr>\n",
       "      <th>4</th>\n",
       "      <td>Green</td>\n",
       "      <td>Lemon</td>\n",
       "      <td>3.0</td>\n",
       "    </tr>\n",
       "  </tbody>\n",
       "</table>\n",
       "</div>"
      ],
      "text/plain": [
       "   color  fruit  size\n",
       "3  Green  Apple   3.0\n",
       "4  Green  Lemon   3.0"
      ]
     },
     "execution_count": 37,
     "metadata": {},
     "output_type": "execute_result"
    }
   ],
   "source": [
    "green"
   ]
  },
  {
   "cell_type": "code",
   "execution_count": 38,
   "metadata": {},
   "outputs": [
    {
     "data": {
      "text/html": [
       "<div>\n",
       "<style>\n",
       "    .dataframe thead tr:only-child th {\n",
       "        text-align: right;\n",
       "    }\n",
       "\n",
       "    .dataframe thead th {\n",
       "        text-align: left;\n",
       "    }\n",
       "\n",
       "    .dataframe tbody tr th {\n",
       "        vertical-align: top;\n",
       "    }\n",
       "</style>\n",
       "<table border=\"1\" class=\"dataframe\">\n",
       "  <thead>\n",
       "    <tr style=\"text-align: right;\">\n",
       "      <th></th>\n",
       "      <th>color</th>\n",
       "      <th>fruit</th>\n",
       "      <th>size</th>\n",
       "    </tr>\n",
       "  </thead>\n",
       "  <tbody>\n",
       "    <tr>\n",
       "      <th>0</th>\n",
       "      <td>Purple</td>\n",
       "      <td>Grape</td>\n",
       "      <td>1.0</td>\n",
       "    </tr>\n",
       "    <tr>\n",
       "      <th>1</th>\n",
       "      <td>Purple</td>\n",
       "      <td>Grape</td>\n",
       "      <td>1.5</td>\n",
       "    </tr>\n",
       "    <tr>\n",
       "      <th>2</th>\n",
       "      <td>Yellow</td>\n",
       "      <td>Lemon</td>\n",
       "      <td>3.0</td>\n",
       "    </tr>\n",
       "  </tbody>\n",
       "</table>\n",
       "</div>"
      ],
      "text/plain": [
       "    color  fruit  size\n",
       "0  Purple  Grape   1.0\n",
       "1  Purple  Grape   1.5\n",
       "2  Yellow  Lemon   3.0"
      ]
     },
     "execution_count": 38,
     "metadata": {},
     "output_type": "execute_result"
    }
   ],
   "source": [
    "not_green"
   ]
  },
  {
   "cell_type": "markdown",
   "metadata": {},
   "source": [
    "### 2) Calculate impurity of node and information gain on split"
   ]
  },
  {
   "cell_type": "code",
   "execution_count": 40,
   "metadata": {},
   "outputs": [
    {
     "data": {
      "text/plain": [
       "array(['Grape', 'Lemon', 'Apple'], dtype=object)"
      ]
     },
     "execution_count": 40,
     "metadata": {},
     "output_type": "execute_result"
    }
   ],
   "source": [
    "classes = df['fruit'].unique()\n",
    "classes"
   ]
  },
  {
   "cell_type": "code",
   "execution_count": null,
   "metadata": {
    "collapsed": true
   },
   "outputs": [],
   "source": [
    "df['fruit' == ]"
   ]
  },
  {
   "cell_type": "code",
   "execution_count": null,
   "metadata": {
    "collapsed": true
   },
   "outputs": [],
   "source": [
    "def class_counts(df, column_name):\n",
    "    "
   ]
  },
  {
   "cell_type": "code",
   "execution_count": null,
   "metadata": {
    "collapsed": true
   },
   "outputs": [],
   "source": [
    "def gini(df, column_name):\n",
    "    \n",
    "    "
   ]
  },
  {
   "cell_type": "code",
   "execution_count": 49,
   "metadata": {},
   "outputs": [
    {
     "name": "stdout",
     "output_type": "stream",
     "text": [
      "i = 0, P = 0.0\n",
      "i = 5, P = 55.55555555555556\n",
      "i = 10, P = 81.63265306122449\n",
      "i = 15, P = 93.75\n",
      "i = 20, P = 98.76543209876543\n",
      "i = 25, P = 100.0\n",
      "i = 30, P = 99.17355371900827\n",
      "i = 35, P = 97.22222222222221\n",
      "i = 40, P = 94.67455621301775\n",
      "i = 45, P = 91.83673469387756\n",
      "i = 50, P = 88.88888888888889\n",
      "i = 55, P = 85.9375\n",
      "i = 60, P = 83.04498269896193\n",
      "i = 65, P = 80.24691358024691\n",
      "i = 70, P = 77.5623268698061\n",
      "i = 75, P = 75.0\n",
      "i = 80, P = 72.56235827664399\n",
      "i = 85, P = 70.24793388429752\n",
      "i = 90, P = 68.05293005671078\n",
      "i = 95, P = 65.97222222222221\n",
      "i = 100, P = 64.0\n",
      "i = 105, P = 62.130177514792905\n",
      "i = 110, P = 60.35665294924554\n",
      "i = 115, P = 58.673469387755105\n",
      "i = 120, P = 57.07491082045184\n",
      "i = 125, P = 55.55555555555555\n",
      "i = 130, P = 54.11030176899063\n",
      "i = 135, P = 52.734375\n",
      "i = 140, P = 51.423324150596876\n",
      "i = 145, P = 50.173010380622834\n"
     ]
    }
   ],
   "source": [
    "for i in range(0, 150, 5):\n",
    "    print(\"i = %s, P = %s\" % (i, (100*100)/((25+i)*(25+i))*i))"
   ]
  },
  {
   "cell_type": "code",
   "execution_count": null,
   "metadata": {
    "collapsed": true
   },
   "outputs": [],
   "source": []
  }
 ],
 "metadata": {
  "kernelspec": {
   "display_name": "Python 3",
   "language": "python",
   "name": "python3"
  },
  "language_info": {
   "codemirror_mode": {
    "name": "ipython",
    "version": 3
   },
   "file_extension": ".py",
   "mimetype": "text/x-python",
   "name": "python",
   "nbconvert_exporter": "python",
   "pygments_lexer": "ipython3",
   "version": "3.6.2"
  }
 },
 "nbformat": 4,
 "nbformat_minor": 2
}
