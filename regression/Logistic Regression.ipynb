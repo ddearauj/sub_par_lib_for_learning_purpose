{
 "cells": [
  {
   "cell_type": "code",
   "execution_count": 8,
   "metadata": {
    "collapsed": true
   },
   "outputs": [],
   "source": [
    "import numpy as np\n",
    "import pandas as pd\n",
    "import matplotlib.pyplot as plt\n",
    "%matplotlib inline\n",
    "import pandas as pd\n",
    "from IPython.display import display"
   ]
  },
  {
   "cell_type": "markdown",
   "metadata": {
    "collapsed": true
   },
   "source": [
    "# Logistic Regression\n",
    "\n",
    "## Definition\n",
    "\n",
    "## Classification Problems (TRADUZIR)\n",
    "\n",
    "Esquema genérico do classificar supervisionado - treinamento e predição\n",
    "\n",
    "A figura a seguir ilustra o diagrama do classificador supervisionado multiclasse utilizando regressão logística e softmax.\n",
    "\n",
    "Podemos identificar os blocos responsáveis pelo treinamento do classificador:\n",
    "* $\\boldsymbol{(Y,X)}$ são os dados rotulados\n",
    "* $\\boldsymbol{W}$, são os parâmetros a serem treinados\n",
    "* Softmax é o que converte os scores de $\\boldsymbol{XW}$ para probabilidades, gerando o $\\hat{Y_{OH}}$\n",
    "* O.H. converte o rótulo original em \"one-hot\"\n",
    "* $J$ é a função perda que compara $ Y_{OH}$ e $\\hat{Y_{OH}}$ a ser minimizada\n",
    "* $\\Delta_WJ$ é o gradiente que será utilizado para atualizar o $\\boldsymbol{W}$ pelo método do gradiente descendente.\n",
    "\n",
    "Os blocos responsáveis pela predição, uma vez que $\\boldsymbol{W}$ já seja treinado:\n",
    "* Softmax(XW) para calcular as probabilidades\n",
    "* `Argmax` para escolher a classe de maior probabilidade"
   ]
  },
  {
   "cell_type": "markdown",
   "metadata": {},
   "source": [
    "$$ Softmax(\\boldsymbol{Z}) = \\frac{e^{\\boldsymbol{Z}}}{\\sum_{j=0}^{k-1}e^{z_{i,j}}} $$"
   ]
  },
  {
   "cell_type": "code",
   "execution_count": 140,
   "metadata": {
    "collapsed": true
   },
   "outputs": [],
   "source": [
    "def sigmoid(z):\n",
    "    return 1/(1+np.exp(-z))\n",
    "\n",
    "def softmax(z):\n",
    "    ez = np.array(np.exp(z))\n",
    "    return ez/ez.sum(axis=1, keepdims=1)"
   ]
  },
  {
   "cell_type": "markdown",
   "metadata": {},
   "source": [
    "### J: Função Perda pela Entropia Cruzada\n",
    "\n",
    "A função a ser minimizada é a função $J$ de perda, que é baseada na Entropia Cruzada (*Cross Entropy*). Dado um conjunto de **amostras anotadas**, isto é, amostras $\\boldsymbol{X}$ com\n",
    "classe $\\boldsymbol{Y}$, encontrar os pesos $\\boldsymbol{W}$ que minimizam $J$:\n",
    "\n",
    "$$ J_{\\boldsymbol{X,Y}_{TRUE}}(\\boldsymbol{W}) = -\\frac{1}{n} \\sum \\boldsymbol{Y}_{TRUE} \\odot \\log{\\boldsymbol{S}(\\boldsymbol{XW})}$$\n",
    "onde $\\odot$ é multiplicação ponto-a-ponto de matrizes.\n",
    "\n",
    "no caso, S tem a predicao (y_hat)\n",
    "\n",
    "https://datascience.stackexchange.com/questions/20296/cross-entropy-loss-explanation"
   ]
  },
  {
   "cell_type": "code",
   "execution_count": 141,
   "metadata": {
    "collapsed": true
   },
   "outputs": [],
   "source": [
    "def _loss(y_hat, y):\n",
    "    return (-1.0/y.shape[0]) * np.sum(y * np.log(y_hat))"
   ]
  },
  {
   "cell_type": "markdown",
   "metadata": {},
   "source": [
    "### Minimização pelo gradiente descendente\n",
    "\n",
    "A minimização é feita através do método de gradiente descendente. O gradiente de $J$ é dado por:\n",
    "\n",
    "$$ \\boldsymbol{\\Delta J(W)} = - \\frac{1}{n} \\boldsymbol{X}^T (\\boldsymbol{Y}_{TRUE} - \\boldsymbol{S(XW)}) $$ \n",
    "\n",
    "Os pesos são então ajustados em cada *batch* pela equação onde $\\eta$ é denominado de\n",
    "taxa de aprendizagem: *learning rate*:\n",
    "\n",
    "$$ \\boldsymbol{W} = \\boldsymbol{W} - \\eta \\boldsymbol{\\Delta J(W)} $$ \n",
    "\n",
    "A cada iteração no programa de minimização abaixo, os pesos são ajustados aplicando-se o\n",
    "gradiente descendente utilizando todo o conjunto de treinamento. Este esquema é denominado\n",
    "de \"batch gradient descent\".\n",
    "\n",
    "No programa a seguir, o $J$ é implementado pela variável `loss` e o gradiente $\\Delta J$ \n",
    "é implementado pela variável `Grad`."
   ]
  },
  {
   "cell_type": "code",
   "execution_count": 151,
   "metadata": {
    "collapsed": true
   },
   "outputs": [],
   "source": [
    "def cross_entropy_gradient(X, y, y_hat):\n",
    "    return (-1.0/y.shape[0]) * (X.T).dot(y - y_hat)\n",
    "\n",
    "\n",
    "def get_initial_guess(W, X, y):\n",
    "    if W is None:\n",
    "        W = np.zeros([X.shape[1], y.shape[1]])\n",
    "    else:\n",
    "        # check ig initial guess has a valid number of rows and columns\n",
    "        if W.shape[0] != X.shape[1] or W.shape[1] != y.shape[1]:\n",
    "            error_msg = \"ERROR: INITIAL GUESS IS NOT THE RIGHT SHAPE.\\nExpected(%s, %s) encountered (%s, %s)\" % (X.shape[1],\n",
    "                                                                                                                 y.shape[1],\n",
    "                                                                                                                 W.shape[0],\n",
    "                                                                                                                 W.shape[1])\n",
    "            return error_msg\n",
    "        else:\n",
    "            return W\n",
    "        \n",
    "    return W\n",
    "\n",
    "def train(X, y, eta=0.15, iterations=10000, W=None):\n",
    "    \n",
    "    # add the bias\n",
    "    X['bias'] = 1\n",
    "    \n",
    "    #convert to numpy as pandas is crazy slow\n",
    "    X = np.array(X)\n",
    "    y = np.array(y)\n",
    "    # y must be dummied, add check for that\n",
    "    \n",
    "    W = get_initial_guess(W, X, y)\n",
    "#     W = np.array(W)\n",
    "    losses = []\n",
    "        \n",
    "    for i in range(iterations):\n",
    "        scores   = X.dot(W)\n",
    "        y_hat    = softmax(scores)\n",
    "        loss     = _loss(y_hat, y)\n",
    "        gradient = cross_entropy_gradient(X, y, y_hat)\n",
    "        W = W - (eta * gradient)\n",
    "        losses.append(loss)\n",
    "        \n",
    "    return W, losses\n",
    "    \n",
    "    \n",
    "        \n",
    "    "
   ]
  },
  {
   "cell_type": "code",
   "execution_count": 152,
   "metadata": {},
   "outputs": [
    {
     "data": {
      "image/png": "[encoded data removed]",
      "text/plain": [
       "<matplotlib.figure.Figure at 0x2377bfbff60>"
      ]
     },
     "metadata": {},
     "output_type": "display_data"
    }
   ],
   "source": [
    "# testando no iris\n",
    "\n",
    "from sklearn.datasets import load_iris\n",
    "\n",
    "iris = load_iris()\n",
    "X = iris.data[:,::2]  # comprimento das sépalas e pétalas, indices 0 e 2\n",
    "Y = iris.target\n",
    "\n",
    "X = pd.DataFrame(X, columns=['comprimento sepalas','comprimento petalas'])\n",
    "y = pd.DataFrame(Y, columns=['Type'])\n",
    "y['Type'] = y['Type'].astype(str)\n",
    "\n",
    "colors = np.array(['r','y','b'])\n",
    "plt.scatter(X['comprimento sepalas'], X['comprimento petalas'], c=colors[Y])\n",
    "plt.xlabel('Comprimento sepalas')\n",
    "plt.ylabel('Comprimento petalas')\n",
    "plt.show()\n"
   ]
  },
  {
   "cell_type": "code",
   "execution_count": 153,
   "metadata": {
    "scrolled": false
   },
   "outputs": [
    {
     "name": "stdout",
     "output_type": "stream",
     "text": [
      "Final W: [[ 4.11741611 -0.12543194 -3.99198417]\n",
      " [-7.10287364 -0.22131854  7.32419219]\n",
      " [ 1.52460768  5.61473112 -7.1393388 ]]\n",
      "Final loss: 0.10747711677\n"
     ]
    },
    {
     "data": {
      "text/plain": [
       "[<matplotlib.lines.Line2D at 0x2377c0a84e0>]"
      ]
     },
     "execution_count": 153,
     "metadata": {},
     "output_type": "execute_result"
    },
    {
     "data": {
      "image/png": "[encoded data removed]",
      "text/plain": [
       "<matplotlib.figure.Figure at 0x2377bfbf6d8>"
      ]
     },
     "metadata": {},
     "output_type": "display_data"
    }
   ],
   "source": [
    "y = pd.get_dummies(y)\n",
    "\n",
    "W, losses = train(X, y)\n",
    "\n",
    "print(\"Final W:\", W)\n",
    "print(\"Final loss:\", losses[-1])\n",
    "plt.plot(losses)"
   ]
  },
  {
   "cell_type": "code",
   "execution_count": 150,
   "metadata": {},
   "outputs": [
    {
     "data": {
      "text/html": [
       "<div>\n",
       "<style>\n",
       "    .dataframe thead tr:only-child th {\n",
       "        text-align: right;\n",
       "    }\n",
       "\n",
       "    .dataframe thead th {\n",
       "        text-align: left;\n",
       "    }\n",
       "\n",
       "    .dataframe tbody tr th {\n",
       "        vertical-align: top;\n",
       "    }\n",
       "</style>\n",
       "<table border=\"1\" class=\"dataframe\">\n",
       "  <thead>\n",
       "    <tr style=\"text-align: right;\">\n",
       "      <th>col_0</th>\n",
       "      <th>0</th>\n",
       "      <th>1</th>\n",
       "      <th>2</th>\n",
       "    </tr>\n",
       "    <tr>\n",
       "      <th>row_0</th>\n",
       "      <th></th>\n",
       "      <th></th>\n",
       "      <th></th>\n",
       "    </tr>\n",
       "  </thead>\n",
       "  <tbody>\n",
       "    <tr>\n",
       "      <th>0</th>\n",
       "      <td>50</td>\n",
       "      <td>0</td>\n",
       "      <td>0</td>\n",
       "    </tr>\n",
       "    <tr>\n",
       "      <th>1</th>\n",
       "      <td>0</td>\n",
       "      <td>47</td>\n",
       "      <td>3</td>\n",
       "    </tr>\n",
       "    <tr>\n",
       "      <th>2</th>\n",
       "      <td>0</td>\n",
       "      <td>3</td>\n",
       "      <td>47</td>\n",
       "    </tr>\n",
       "  </tbody>\n",
       "</table>\n",
       "</div>"
      ],
      "text/plain": [
       "col_0   0   1   2\n",
       "row_0            \n",
       "0      50   0   0\n",
       "1       0  47   3\n",
       "2       0   3  47"
      ]
     },
     "execution_count": 150,
     "metadata": {},
     "output_type": "execute_result"
    }
   ],
   "source": [
    "def predict(X,W):\n",
    "    S = softmax(X.dot(W))\n",
    "    # escolhe a maior probabilidade entre as classes\n",
    "    Y_hat = np.argmax(S,axis=1)\n",
    "    return Y_hat\n",
    "\n",
    "pd.crosstab(predict(X,W), Y)"
   ]
  },
  {
   "cell_type": "code",
   "execution_count": 176,
   "metadata": {},
   "outputs": [],
   "source": [
    "class LogisticRegression(object):\n",
    "    \"\"\"LogisticRegression classifier.\n",
    "\n",
    "    Parameters\n",
    "    ------------\n",
    "    eta : float\n",
    "        Learning rate (between 0.0 and 1.0)\n",
    "    n_iter : int\n",
    "        Passes over the training dataset.\n",
    "\n",
    "    Attributes\n",
    "    -----------\n",
    "    w_ : 1d-array\n",
    "        Weights after fitting.\n",
    "    cost_ : list\n",
    "        Cost in every epoch.\n",
    "\n",
    "    \"\"\"\n",
    "    def __init__(self, eta=0.01, iterations=1000):\n",
    "        self.eta = eta\n",
    "        self.iterations = iterations\n",
    "        self.W = None\n",
    "\n",
    "    def fit(self, X, y):\n",
    "        \"\"\" Fit training data.\n",
    "\n",
    "        Parameters\n",
    "        ----------\n",
    "        X : {array-like}, shape = [n_samples, n_features]\n",
    "            Training vectors, where n_samples is the number of samples and\n",
    "            n_features is the number of features.\n",
    "        y : array-like, shape = [n_samples]\n",
    "            Target values.\n",
    "\n",
    "        Returns\n",
    "        -------\n",
    "        self : object\n",
    "\n",
    "        \"\"\"\n",
    "        self.w_ = np.zeros(1 + X.shape[1])\n",
    "        self.cost_ = []       \n",
    "        for i in range(self.n_iter):\n",
    "            y_val = self.activation(X)\n",
    "            errors = (y - y_val)\n",
    "            neg_grad = X.T.dot(errors)\n",
    "            self.w_[1:] += self.eta * neg_grad\n",
    "            self.w_[0] += self.eta * errors.sum()\n",
    "            self.cost_.append(self._logit_cost(y, self.activation(X)))\n",
    "        return self\n",
    "    \n",
    "    \n",
    "    def train(self, X, y):\n",
    "        \n",
    "        # add the bias\n",
    "        X['bias'] = 1\n",
    "\n",
    "        #convert to numpy\n",
    "        X = np.array(X)\n",
    "        y = np.array(y)\n",
    "        \n",
    "        # y must be dummied, add check for that\n",
    "\n",
    "        self.W = get_initial_guess(self.W, X, y)\n",
    "        self.losses = []\n",
    "\n",
    "        for i in range(self.iterations):\n",
    "            scores   = X.dot(self.W)\n",
    "            y_hat    = softmax(scores)\n",
    "            loss     = _loss(y_hat, y)\n",
    "            gradient = cross_entropy_gradient(X, y, y_hat)\n",
    "            self.W = self.W - (self.eta * gradient)\n",
    "            self.losses.append(loss)\n",
    "\n",
    "        return self\n",
    "    \n",
    "    \n",
    "    \n",
    "    def _sigmoid(z):\n",
    "        return 1/(1+np.exp(-z))\n",
    "\n",
    "    def _softmax(z):\n",
    "        if z.shape[1] > 1:\n",
    "            ez = np.array(np.exp(z))\n",
    "            return ez/ez.sum(axis=1, keepdims=1)\n",
    "        else:\n",
    "            return sigmoid(z)\n",
    "\n",
    "    def _loss(self, y_hat, y):\n",
    "        return (-1.0/y.shape[0]) * np.sum(y * np.log(y_hat))\n",
    "    \n",
    "    \n",
    "    def cross_entropy_gradient(self, X, y, y_hat):\n",
    "        return (-1.0/y.shape[0]) * (X.T).dot(y - y_hat)\n",
    "\n",
    "\n",
    "    def set_initial_guess(self, X, y, W=None):\n",
    "        if W is None:\n",
    "            self.W = np.zeros([X.shape[1], y.shape[1]])\n",
    "        else:\n",
    "            # check if initial guess has a valid number of rows and columns\n",
    "            if W.shape[0] != X.shape[1] or W.shape[1] != y.shape[1]:\n",
    "                error_msg = \"ERROR: INITIAL GUESS IS NOT THE RIGHT SHAPE.\\nExpected(%s, %s) encountered (%s, %s)\" % (X.shape[1],\n",
    "                                                                                                                     y.shape[1],\n",
    "                                                                                                                     W.shape[0],\n",
    "                                                                                                                     W.shape[1])\n",
    "                return error_msg\n",
    "            else:\n",
    "                self.W = W\n",
    "                \n",
    "    def predict(self,X):\n",
    "        S = softmax(X.dot(self.W))\n",
    "        # escolhe a maior probabilidade entre as classes\n",
    "        Y_hat = np.argmax(S,axis=1)\n",
    "        return Y_hat\n",
    "    \n",
    "    "
   ]
  },
  {
   "cell_type": "code",
   "execution_count": 178,
   "metadata": {},
   "outputs": [
    {
     "data": {
      "text/plain": [
       "[<matplotlib.lines.Line2D at 0x2377bf14668>]"
      ]
     },
     "execution_count": 178,
     "metadata": {},
     "output_type": "execute_result"
    },
    {
     "data": {
      "image/png": "[encoded data removed]",
      "text/plain": [
       "<matplotlib.figure.Figure at 0x2377c515780>"
      ]
     },
     "metadata": {},
     "output_type": "display_data"
    }
   ],
   "source": [
    "lr = LogisticRegression()\n",
    "lr.eta = 0.15\n",
    "lr.iterations = 10000\n",
    "lr.train(X,y)\n",
    "plt.plot(lr.losses)"
   ]
  },
  {
   "cell_type": "code",
   "execution_count": null,
   "metadata": {
    "collapsed": true
   },
   "outputs": [],
   "source": []
  }
 ],
 "metadata": {
  "kernelspec": {
   "display_name": "Python 3",
   "language": "python",
   "name": "python3"
  },
  "language_info": {
   "codemirror_mode": {
    "name": "ipython",
    "version": 3
   },
   "file_extension": ".py",
   "mimetype": "text/x-python",
   "name": "python",
   "nbconvert_exporter": "python",
   "pygments_lexer": "ipython3",
   "version": "3.6.2"
  }
 },
 "nbformat": 4,
 "nbformat_minor": 2
}
