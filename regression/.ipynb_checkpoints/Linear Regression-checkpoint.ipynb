{
 "cells": [
  {
   "cell_type": "markdown",
   "metadata": {},
   "source": [
    "### Linear Regression\n",
    "\n",
    "The linear regression model tries to find linear function that minimizes the error of estimation vs. real data.\n",
    "The error, also known as residuals are shown in red\n",
    "\n",
    "![Linear Regression Errors](imgs/regerrors.jpg)\n",
    " \n",
    " \n",
    "it has the form\n",
    "\n",
    "$$  f(X) = \\beta_0 + \\sum X_j\\beta_j  $$\n",
    "\n",
    "The most popular estimation method for $\\beta$ is the _least squares_ method, in which the coefficients $\\beta$ minimize the Residual Sum of Squares (RSS)\n",
    "\n",
    "$$ RSS(\\beta) = \\sum (y_i - f(x_i))^2 = \\sum (y_i - \\beta_0 - \\sum x_{ij}\\beta_j)^2 $$\n",
    "\n",
    "At this point, we will assume that the columns of our data X are linearly independent, therefore we can obtain $\\beta$\n",
    "\n",
    "$$ \\hat{\\beta} = (\\bf{X}^T\\bf{X})^{-1} \\bf{X}^t\\bf{y}$$\n",
    "\n",
    "and $y$ as\n",
    "\n",
    "$$ \\hat{y} = \\bf{X}\\hat{\\beta} $$"
   ]
  },
  {
   "cell_type": "code",
   "execution_count": 27,
   "metadata": {
    "collapsed": true
   },
   "outputs": [],
   "source": [
    "import numpy as np\n",
    "\n",
    "def linear_regression(X, y):\n",
    "    \"\"\" \n",
    "    Fits the data into a linear function\n",
    "    \n",
    "    Parameters\n",
    "    ----------\n",
    "    X: array_like\n",
    "        Data containing the dependent variables\n",
    "    \n",
    "    y: array_like\n",
    "        1-D array with the response variable\n",
    "\n",
    "    Returns\n",
    "    -------\n",
    "    \n",
    "    betas: Series\n",
    "        ndarray containing the coefficients of the linear function\n",
    "        \n",
    "    \n",
    "    Example\n",
    "    -------\n",
    "\n",
    "    \"\"\"\n",
    "    # insert the column of 1s to find the linear intercept (beta 0)\n",
    "    X = np.vstack([np.ones(len(X)), X]).T\n",
    "    \n",
    "    XT         = np.transpose(X)\n",
    "    XTX        = np.dot(XT, X)\n",
    "    XTX_inv    = np.linalg.inv(XTX)\n",
    "    XTX_inv_XT = np.dot(XTX_inv, XT)\n",
    "    beta       = np.dot(XTX_inv_XT, y)\n",
    "    \n",
    "    return beta\n"
   ]
  },
  {
   "cell_type": "code",
   "execution_count": 28,
   "metadata": {},
   "outputs": [
    {
     "data": {
      "text/plain": [
       "array([ 0.75,  0.65])"
      ]
     },
     "execution_count": 28,
     "metadata": {},
     "output_type": "execute_result"
    }
   ],
   "source": [
    "X = np.array([1, 2, 3, 4, 5, 6, 7, 8, 9])\n",
    "y = np.array([2, 1, 3, 4, 3, 6, 4, 6, 7])\n",
    "\n",
    "beta = linear_regression(X, y)\n",
    "beta"
   ]
  },
  {
   "cell_type": "code",
   "execution_count": 30,
   "metadata": {},
   "outputs": [
    {
     "data": {
      "image/png": "[encoded data removed]",
      "text/plain": [
       "<matplotlib.figure.Figure at 0x11dfc386d68>"
      ]
     },
     "metadata": {},
     "output_type": "display_data"
    }
   ],
   "source": [
    "import matplotlib.pyplot as plt\n",
    "plt.plot(X, y, 'o', label='Original data', markersize=10)\n",
    "plt.plot(X, beta[0] + beta[1]*X, 'r', label='Fitted line')\n",
    "plt.legend()\n",
    "plt.show()"
   ]
  },
  {
   "cell_type": "markdown",
   "metadata": {},
   "source": [
    "Now, we should add the F statistic to the function, as well as the RSS"
   ]
  },
  {
   "cell_type": "code",
   "execution_count": null,
   "metadata": {
    "collapsed": true
   },
   "outputs": [],
   "source": []
  }
 ],
 "metadata": {
  "kernelspec": {
   "display_name": "Python 3",
   "language": "python",
   "name": "python3"
  },
  "language_info": {
   "codemirror_mode": {
    "name": "ipython",
    "version": 3
   },
   "file_extension": ".py",
   "mimetype": "text/x-python",
   "name": "python",
   "nbconvert_exporter": "python",
   "pygments_lexer": "ipython3",
   "version": "3.6.2"
  }
 },
 "nbformat": 4,
 "nbformat_minor": 2
}
